{
 "cells": [
  {
   "cell_type": "markdown",
   "metadata": {},
   "source": [
    "🧱 **PHASE 1**: *Setup and Data Collection*"
   ]
  },
  {
   "cell_type": "code",
   "execution_count": null,
   "metadata": {},
   "outputs": [],
   "source": [
    "import pandas as pd\n",
    "import numpy as np\n",
    "import matplotlib.pyplot as plt\n",
    "import seaborn as sns\n",
    "from sklearn.model_selection import train_test_split\n",
    "from sklearn.ensemble import RandomForestClassifier\n",
    "from sklearn.metrics import classification_report\n",
    "import logging\n",
    "import os\n",
    "\n",
    "logging.basicConfig(level=logging.INFO, format='%(asctime)s - %(levelname)s - %(message)s')\n",
    "\n",
    "def clean_data(df):\n",
    "    \"\"\"Clean hotel bookings data.\"\"\"\n",
    "    try:\n",
    "        logging.info(\"Cleaning data...\")\n",
    "        df['children'] = df['children'].fillna(df['children'].median())\n",
    "        df['country'] = df['country'].fillna('Unknown')\n",
    "        df['agent'] = df['agent'].fillna(0)\n",
    "        df['company'] = df['company'].fillna(0)\n",
    "        df = df.drop(columns=['reservation_status'], errors='ignore')\n",
    "        logging.info(\"Data cleaned successfully.\")\n",
    "        return df\n",
    "    except Exception as e:\n",
    "        logging.error(f\"Error in clean_data: {e}\")\n",
    "        raise\n",
    "\n",
    "def engineer_features(df):\n",
    "    \"\"\"Add derived features.\"\"\"\n",
    "    try:\n",
    "        logging.info(\"Engineering features...\")\n",
    "        df['total_stay'] = df['stays_in_weekend_nights'] + df['stays_in_week_nights']\n",
    "        df['total_guests'] = df['adults'] + df['children'] + df['babies']\n",
    "        df['is_long_lead'] = (df['lead_time'] > 90).astype(int)\n",
    "        logging.info(\"Features engineered successfully.\")\n",
    "        return df\n",
    "    except Exception as e:\n",
    "        logging.error(f\"Error in engineer_features: {e}\")\n",
    "        raise\n",
    "\n",
    "# Load and preprocess data\n",
    "data = pd.read_csv('data/raw/hotel_bookings.csv')\n",
    "data_clean = clean_data(data)\n",
    "data_clean = engineer_features(data_clean)\n",
    "data_clean.to_csv('data/processed/hotel_bookings_clean.csv', index=False)\n",
    "print(\"Cleaned data saved to data/processed/hotel_bookings_clean.csv\")"
   ]
  },
  {
   "cell_type": "code",
   "execution_count": null,
   "metadata": {},
   "outputs": [],
   "source": [
    "import pandas as pd\n",
    "from src.vizualize import plot_cancellation_trends, plot_lead_time_analysis, plot_correlation_matrix\n",
    "\n",
    "# Load cleaned data\n",
    "data_clean = pd.read_csv('data/processed/hotel_bookings_clean.csv')\n",
    "\n",
    "# Perform EDA\n",
    "print(data_clean.describe())\n",
    "print(data_clean.isnull().sum())\n",
    "\n",
    "# Generate visualizations\n",
    "output_path = 'outputs/visuals'\n",
    "plot_cancellation_trends(data_clean, output_path)\n",
    "plot_lead_time_analysis(data_clean, output_path)\n",
    "plot_correlation_matrix(data_clean, output_path)\n",
    "\n",
    "print(\"Visualizations saved to outputs/visuals\")\n"
   ]
  },
  {
   "cell_type": "code",
   "execution_count": null,
   "metadata": {},
   "outputs": [
    {
     "data": {
      "application/vnd.microsoft.datawrangler.viewer.v0+json": {
       "columns": [
        {
         "name": "index",
         "rawType": "int64",
         "type": "integer"
        },
        {
         "name": "hotel",
         "rawType": "object",
         "type": "string"
        },
        {
         "name": "is_canceled",
         "rawType": "int64",
         "type": "integer"
        },
        {
         "name": "lead_time",
         "rawType": "int64",
         "type": "integer"
        },
        {
         "name": "arrival_date_year",
         "rawType": "int64",
         "type": "integer"
        },
        {
         "name": "arrival_date_month",
         "rawType": "object",
         "type": "string"
        },
        {
         "name": "arrival_date_week_number",
         "rawType": "int64",
         "type": "integer"
        },
        {
         "name": "arrival_date_day_of_month",
         "rawType": "int64",
         "type": "integer"
        },
        {
         "name": "stays_in_weekend_nights",
         "rawType": "int64",
         "type": "integer"
        },
        {
         "name": "stays_in_week_nights",
         "rawType": "int64",
         "type": "integer"
        },
        {
         "name": "adults",
         "rawType": "int64",
         "type": "integer"
        },
        {
         "name": "children",
         "rawType": "float64",
         "type": "float"
        },
        {
         "name": "babies",
         "rawType": "int64",
         "type": "integer"
        },
        {
         "name": "meal",
         "rawType": "object",
         "type": "string"
        },
        {
         "name": "country",
         "rawType": "object",
         "type": "string"
        },
        {
         "name": "market_segment",
         "rawType": "object",
         "type": "string"
        },
        {
         "name": "distribution_channel",
         "rawType": "object",
         "type": "string"
        },
        {
         "name": "is_repeated_guest",
         "rawType": "int64",
         "type": "integer"
        },
        {
         "name": "previous_cancellations",
         "rawType": "int64",
         "type": "integer"
        },
        {
         "name": "previous_bookings_not_canceled",
         "rawType": "int64",
         "type": "integer"
        },
        {
         "name": "reserved_room_type",
         "rawType": "object",
         "type": "string"
        },
        {
         "name": "assigned_room_type",
         "rawType": "object",
         "type": "string"
        },
        {
         "name": "booking_changes",
         "rawType": "int64",
         "type": "integer"
        },
        {
         "name": "deposit_type",
         "rawType": "object",
         "type": "string"
        },
        {
         "name": "agent",
         "rawType": "float64",
         "type": "float"
        },
        {
         "name": "company",
         "rawType": "float64",
         "type": "float"
        },
        {
         "name": "days_in_waiting_list",
         "rawType": "int64",
         "type": "integer"
        },
        {
         "name": "customer_type",
         "rawType": "object",
         "type": "string"
        },
        {
         "name": "adr",
         "rawType": "float64",
         "type": "float"
        },
        {
         "name": "required_car_parking_spaces",
         "rawType": "int64",
         "type": "integer"
        },
        {
         "name": "total_of_special_requests",
         "rawType": "int64",
         "type": "integer"
        },
        {
         "name": "reservation_status",
         "rawType": "object",
         "type": "string"
        },
        {
         "name": "reservation_status_date",
         "rawType": "object",
         "type": "string"
        }
       ],
       "ref": "3138480e-b785-4b5e-af84-2d5bf6602578",
       "rows": [
        [
         "0",
         "Resort Hotel",
         "0",
         "342",
         "2015",
         "July",
         "27",
         "1",
         "0",
         "0",
         "2",
         "0.0",
         "0",
         "BB",
         "PRT",
         "Direct",
         "Direct",
         "0",
         "0",
         "0",
         "C",
         "C",
         "3",
         "No Deposit",
         null,
         null,
         "0",
         "Transient",
         "0.0",
         "0",
         "0",
         "Check-Out",
         "2015-07-01"
        ],
        [
         "1",
         "Resort Hotel",
         "0",
         "737",
         "2015",
         "July",
         "27",
         "1",
         "0",
         "0",
         "2",
         "0.0",
         "0",
         "BB",
         "PRT",
         "Direct",
         "Direct",
         "0",
         "0",
         "0",
         "C",
         "C",
         "4",
         "No Deposit",
         null,
         null,
         "0",
         "Transient",
         "0.0",
         "0",
         "0",
         "Check-Out",
         "2015-07-01"
        ],
        [
         "2",
         "Resort Hotel",
         "0",
         "7",
         "2015",
         "July",
         "27",
         "1",
         "0",
         "1",
         "1",
         "0.0",
         "0",
         "BB",
         "GBR",
         "Direct",
         "Direct",
         "0",
         "0",
         "0",
         "A",
         "C",
         "0",
         "No Deposit",
         null,
         null,
         "0",
         "Transient",
         "75.0",
         "0",
         "0",
         "Check-Out",
         "2015-07-02"
        ],
        [
         "3",
         "Resort Hotel",
         "0",
         "13",
         "2015",
         "July",
         "27",
         "1",
         "0",
         "1",
         "1",
         "0.0",
         "0",
         "BB",
         "GBR",
         "Corporate",
         "Corporate",
         "0",
         "0",
         "0",
         "A",
         "A",
         "0",
         "No Deposit",
         "304.0",
         null,
         "0",
         "Transient",
         "75.0",
         "0",
         "0",
         "Check-Out",
         "2015-07-02"
        ],
        [
         "4",
         "Resort Hotel",
         "0",
         "14",
         "2015",
         "July",
         "27",
         "1",
         "0",
         "2",
         "2",
         "0.0",
         "0",
         "BB",
         "GBR",
         "Online TA",
         "TA/TO",
         "0",
         "0",
         "0",
         "A",
         "A",
         "0",
         "No Deposit",
         "240.0",
         null,
         "0",
         "Transient",
         "98.0",
         "0",
         "1",
         "Check-Out",
         "2015-07-03"
        ]
       ],
       "shape": {
        "columns": 32,
        "rows": 5
       }
      },
      "text/html": [
       "<div>\n",
       "<style scoped>\n",
       "    .dataframe tbody tr th:only-of-type {\n",
       "        vertical-align: middle;\n",
       "    }\n",
       "\n",
       "    .dataframe tbody tr th {\n",
       "        vertical-align: top;\n",
       "    }\n",
       "\n",
       "    .dataframe thead th {\n",
       "        text-align: right;\n",
       "    }\n",
       "</style>\n",
       "<table border=\"1\" class=\"dataframe\">\n",
       "  <thead>\n",
       "    <tr style=\"text-align: right;\">\n",
       "      <th></th>\n",
       "      <th>hotel</th>\n",
       "      <th>is_canceled</th>\n",
       "      <th>lead_time</th>\n",
       "      <th>arrival_date_year</th>\n",
       "      <th>arrival_date_month</th>\n",
       "      <th>arrival_date_week_number</th>\n",
       "      <th>arrival_date_day_of_month</th>\n",
       "      <th>stays_in_weekend_nights</th>\n",
       "      <th>stays_in_week_nights</th>\n",
       "      <th>adults</th>\n",
       "      <th>...</th>\n",
       "      <th>deposit_type</th>\n",
       "      <th>agent</th>\n",
       "      <th>company</th>\n",
       "      <th>days_in_waiting_list</th>\n",
       "      <th>customer_type</th>\n",
       "      <th>adr</th>\n",
       "      <th>required_car_parking_spaces</th>\n",
       "      <th>total_of_special_requests</th>\n",
       "      <th>reservation_status</th>\n",
       "      <th>reservation_status_date</th>\n",
       "    </tr>\n",
       "  </thead>\n",
       "  <tbody>\n",
       "    <tr>\n",
       "      <th>0</th>\n",
       "      <td>Resort Hotel</td>\n",
       "      <td>0</td>\n",
       "      <td>342</td>\n",
       "      <td>2015</td>\n",
       "      <td>July</td>\n",
       "      <td>27</td>\n",
       "      <td>1</td>\n",
       "      <td>0</td>\n",
       "      <td>0</td>\n",
       "      <td>2</td>\n",
       "      <td>...</td>\n",
       "      <td>No Deposit</td>\n",
       "      <td>NaN</td>\n",
       "      <td>NaN</td>\n",
       "      <td>0</td>\n",
       "      <td>Transient</td>\n",
       "      <td>0.0</td>\n",
       "      <td>0</td>\n",
       "      <td>0</td>\n",
       "      <td>Check-Out</td>\n",
       "      <td>2015-07-01</td>\n",
       "    </tr>\n",
       "    <tr>\n",
       "      <th>1</th>\n",
       "      <td>Resort Hotel</td>\n",
       "      <td>0</td>\n",
       "      <td>737</td>\n",
       "      <td>2015</td>\n",
       "      <td>July</td>\n",
       "      <td>27</td>\n",
       "      <td>1</td>\n",
       "      <td>0</td>\n",
       "      <td>0</td>\n",
       "      <td>2</td>\n",
       "      <td>...</td>\n",
       "      <td>No Deposit</td>\n",
       "      <td>NaN</td>\n",
       "      <td>NaN</td>\n",
       "      <td>0</td>\n",
       "      <td>Transient</td>\n",
       "      <td>0.0</td>\n",
       "      <td>0</td>\n",
       "      <td>0</td>\n",
       "      <td>Check-Out</td>\n",
       "      <td>2015-07-01</td>\n",
       "    </tr>\n",
       "    <tr>\n",
       "      <th>2</th>\n",
       "      <td>Resort Hotel</td>\n",
       "      <td>0</td>\n",
       "      <td>7</td>\n",
       "      <td>2015</td>\n",
       "      <td>July</td>\n",
       "      <td>27</td>\n",
       "      <td>1</td>\n",
       "      <td>0</td>\n",
       "      <td>1</td>\n",
       "      <td>1</td>\n",
       "      <td>...</td>\n",
       "      <td>No Deposit</td>\n",
       "      <td>NaN</td>\n",
       "      <td>NaN</td>\n",
       "      <td>0</td>\n",
       "      <td>Transient</td>\n",
       "      <td>75.0</td>\n",
       "      <td>0</td>\n",
       "      <td>0</td>\n",
       "      <td>Check-Out</td>\n",
       "      <td>2015-07-02</td>\n",
       "    </tr>\n",
       "    <tr>\n",
       "      <th>3</th>\n",
       "      <td>Resort Hotel</td>\n",
       "      <td>0</td>\n",
       "      <td>13</td>\n",
       "      <td>2015</td>\n",
       "      <td>July</td>\n",
       "      <td>27</td>\n",
       "      <td>1</td>\n",
       "      <td>0</td>\n",
       "      <td>1</td>\n",
       "      <td>1</td>\n",
       "      <td>...</td>\n",
       "      <td>No Deposit</td>\n",
       "      <td>304.0</td>\n",
       "      <td>NaN</td>\n",
       "      <td>0</td>\n",
       "      <td>Transient</td>\n",
       "      <td>75.0</td>\n",
       "      <td>0</td>\n",
       "      <td>0</td>\n",
       "      <td>Check-Out</td>\n",
       "      <td>2015-07-02</td>\n",
       "    </tr>\n",
       "    <tr>\n",
       "      <th>4</th>\n",
       "      <td>Resort Hotel</td>\n",
       "      <td>0</td>\n",
       "      <td>14</td>\n",
       "      <td>2015</td>\n",
       "      <td>July</td>\n",
       "      <td>27</td>\n",
       "      <td>1</td>\n",
       "      <td>0</td>\n",
       "      <td>2</td>\n",
       "      <td>2</td>\n",
       "      <td>...</td>\n",
       "      <td>No Deposit</td>\n",
       "      <td>240.0</td>\n",
       "      <td>NaN</td>\n",
       "      <td>0</td>\n",
       "      <td>Transient</td>\n",
       "      <td>98.0</td>\n",
       "      <td>0</td>\n",
       "      <td>1</td>\n",
       "      <td>Check-Out</td>\n",
       "      <td>2015-07-03</td>\n",
       "    </tr>\n",
       "  </tbody>\n",
       "</table>\n",
       "<p>5 rows × 32 columns</p>\n",
       "</div>"
      ],
      "text/plain": [
       "          hotel  is_canceled  lead_time  arrival_date_year arrival_date_month  \\\n",
       "0  Resort Hotel            0        342               2015               July   \n",
       "1  Resort Hotel            0        737               2015               July   \n",
       "2  Resort Hotel            0          7               2015               July   \n",
       "3  Resort Hotel            0         13               2015               July   \n",
       "4  Resort Hotel            0         14               2015               July   \n",
       "\n",
       "   arrival_date_week_number  arrival_date_day_of_month  \\\n",
       "0                        27                          1   \n",
       "1                        27                          1   \n",
       "2                        27                          1   \n",
       "3                        27                          1   \n",
       "4                        27                          1   \n",
       "\n",
       "   stays_in_weekend_nights  stays_in_week_nights  adults  ...  deposit_type  \\\n",
       "0                        0                     0       2  ...    No Deposit   \n",
       "1                        0                     0       2  ...    No Deposit   \n",
       "2                        0                     1       1  ...    No Deposit   \n",
       "3                        0                     1       1  ...    No Deposit   \n",
       "4                        0                     2       2  ...    No Deposit   \n",
       "\n",
       "   agent company days_in_waiting_list customer_type   adr  \\\n",
       "0    NaN     NaN                    0     Transient   0.0   \n",
       "1    NaN     NaN                    0     Transient   0.0   \n",
       "2    NaN     NaN                    0     Transient  75.0   \n",
       "3  304.0     NaN                    0     Transient  75.0   \n",
       "4  240.0     NaN                    0     Transient  98.0   \n",
       "\n",
       "   required_car_parking_spaces  total_of_special_requests  reservation_status  \\\n",
       "0                            0                          0           Check-Out   \n",
       "1                            0                          0           Check-Out   \n",
       "2                            0                          0           Check-Out   \n",
       "3                            0                          0           Check-Out   \n",
       "4                            0                          1           Check-Out   \n",
       "\n",
       "  reservation_status_date  \n",
       "0              2015-07-01  \n",
       "1              2015-07-01  \n",
       "2              2015-07-02  \n",
       "3              2015-07-02  \n",
       "4              2015-07-03  \n",
       "\n",
       "[5 rows x 32 columns]"
      ]
     },
     "execution_count": 4,
     "metadata": {},
     "output_type": "execute_result"
    }
   ],
   "source": [
    "import pandas as pd\n",
    "from src.model import train_model\n",
    "\n",
    "# Load cleaned data\n",
    "data_clean = pd.read_csv('data/processed/hotel_bookings_clean.csv')\n",
    "\n",
    "# Train model\n",
    "output_path = 'outputs/models'\n",
    "metrics, model_path = train_model(data_clean, target_column='is_canceled', output_path=output_path)\n",
    "\n",
    "print(\"Model trained successfully.\")\n",
    "print(\"Metrics:\", metrics)\n",
    "print(f\"Model saved to {model_path}\")"
   ]
  },
  {
   "cell_type": "code",
   "execution_count": 5,
   "metadata": {},
   "outputs": [
    {
     "name": "stdout",
     "output_type": "stream",
     "text": [
      "         is_canceled      lead_time  arrival_date_year  \\\n",
      "count  119390.000000  119390.000000      119390.000000   \n",
      "mean        0.370416     104.011416        2016.156554   \n",
      "std         0.482918     106.863097           0.707476   \n",
      "min         0.000000       0.000000        2015.000000   \n",
      "25%         0.000000      18.000000        2016.000000   \n",
      "50%         0.000000      69.000000        2016.000000   \n",
      "75%         1.000000     160.000000        2017.000000   \n",
      "max         1.000000     737.000000        2017.000000   \n",
      "\n",
      "       arrival_date_week_number  arrival_date_day_of_month  \\\n",
      "count             119390.000000              119390.000000   \n",
      "mean                  27.165173                  15.798241   \n",
      "std                   13.605138                   8.780829   \n",
      "min                    1.000000                   1.000000   \n",
      "25%                   16.000000                   8.000000   \n",
      "50%                   28.000000                  16.000000   \n",
      "75%                   38.000000                  23.000000   \n",
      "max                   53.000000                  31.000000   \n",
      "\n",
      "       stays_in_weekend_nights  stays_in_week_nights         adults  \\\n",
      "count            119390.000000         119390.000000  119390.000000   \n",
      "mean                  0.927599              2.500302       1.856403   \n",
      "std                   0.998613              1.908286       0.579261   \n",
      "min                   0.000000              0.000000       0.000000   \n",
      "25%                   0.000000              1.000000       2.000000   \n",
      "50%                   1.000000              2.000000       2.000000   \n",
      "75%                   2.000000              3.000000       2.000000   \n",
      "max                  19.000000             50.000000      55.000000   \n",
      "\n",
      "            children         babies  is_repeated_guest  \\\n",
      "count  119386.000000  119390.000000      119390.000000   \n",
      "mean        0.103890       0.007949           0.031912   \n",
      "std         0.398561       0.097436           0.175767   \n",
      "min         0.000000       0.000000           0.000000   \n",
      "25%         0.000000       0.000000           0.000000   \n",
      "50%         0.000000       0.000000           0.000000   \n",
      "75%         0.000000       0.000000           0.000000   \n",
      "max        10.000000      10.000000           1.000000   \n",
      "\n",
      "       previous_cancellations  previous_bookings_not_canceled  \\\n",
      "count           119390.000000                   119390.000000   \n",
      "mean                 0.087118                        0.137097   \n",
      "std                  0.844336                        1.497437   \n",
      "min                  0.000000                        0.000000   \n",
      "25%                  0.000000                        0.000000   \n",
      "50%                  0.000000                        0.000000   \n",
      "75%                  0.000000                        0.000000   \n",
      "max                 26.000000                       72.000000   \n",
      "\n",
      "       booking_changes          agent      company  days_in_waiting_list  \\\n",
      "count    119390.000000  103050.000000  6797.000000         119390.000000   \n",
      "mean          0.221124      86.693382   189.266735              2.321149   \n",
      "std           0.652306     110.774548   131.655015             17.594721   \n",
      "min           0.000000       1.000000     6.000000              0.000000   \n",
      "25%           0.000000       9.000000    62.000000              0.000000   \n",
      "50%           0.000000      14.000000   179.000000              0.000000   \n",
      "75%           0.000000     229.000000   270.000000              0.000000   \n",
      "max          21.000000     535.000000   543.000000            391.000000   \n",
      "\n",
      "                 adr  required_car_parking_spaces  total_of_special_requests  \n",
      "count  119390.000000                119390.000000              119390.000000  \n",
      "mean      101.831122                     0.062518                   0.571363  \n",
      "std        50.535790                     0.245291                   0.792798  \n",
      "min        -6.380000                     0.000000                   0.000000  \n",
      "25%        69.290000                     0.000000                   0.000000  \n",
      "50%        94.575000                     0.000000                   0.000000  \n",
      "75%       126.000000                     0.000000                   1.000000  \n",
      "max      5400.000000                     8.000000                   5.000000  \n"
     ]
    }
   ],
   "source": [
    "print(data.describe())"
   ]
  },
  {
   "cell_type": "code",
   "execution_count": 6,
   "metadata": {},
   "outputs": [
    {
     "name": "stdout",
     "output_type": "stream",
     "text": [
      "<class 'pandas.core.frame.DataFrame'>\n",
      "RangeIndex: 119390 entries, 0 to 119389\n",
      "Data columns (total 32 columns):\n",
      " #   Column                          Non-Null Count   Dtype  \n",
      "---  ------                          --------------   -----  \n",
      " 0   hotel                           119390 non-null  object \n",
      " 1   is_canceled                     119390 non-null  int64  \n",
      " 2   lead_time                       119390 non-null  int64  \n",
      " 3   arrival_date_year               119390 non-null  int64  \n",
      " 4   arrival_date_month              119390 non-null  object \n",
      " 5   arrival_date_week_number        119390 non-null  int64  \n",
      " 6   arrival_date_day_of_month       119390 non-null  int64  \n",
      " 7   stays_in_weekend_nights         119390 non-null  int64  \n",
      " 8   stays_in_week_nights            119390 non-null  int64  \n",
      " 9   adults                          119390 non-null  int64  \n",
      " 10  children                        119386 non-null  float64\n",
      " 11  babies                          119390 non-null  int64  \n",
      " 12  meal                            119390 non-null  object \n",
      " 13  country                         118902 non-null  object \n",
      " 14  market_segment                  119390 non-null  object \n",
      " 15  distribution_channel            119390 non-null  object \n",
      " 16  is_repeated_guest               119390 non-null  int64  \n",
      " 17  previous_cancellations          119390 non-null  int64  \n",
      " 18  previous_bookings_not_canceled  119390 non-null  int64  \n",
      " 19  reserved_room_type              119390 non-null  object \n",
      " 20  assigned_room_type              119390 non-null  object \n",
      " 21  booking_changes                 119390 non-null  int64  \n",
      " 22  deposit_type                    119390 non-null  object \n",
      " 23  agent                           103050 non-null  float64\n",
      " 24  company                         6797 non-null    float64\n",
      " 25  days_in_waiting_list            119390 non-null  int64  \n",
      " 26  customer_type                   119390 non-null  object \n",
      " 27  adr                             119390 non-null  float64\n",
      " 28  required_car_parking_spaces     119390 non-null  int64  \n",
      " 29  total_of_special_requests       119390 non-null  int64  \n",
      " 30  reservation_status              119390 non-null  object \n",
      " 31  reservation_status_date         119390 non-null  object \n",
      "dtypes: float64(4), int64(16), object(12)\n",
      "memory usage: 29.1+ MB\n",
      "None\n"
     ]
    }
   ],
   "source": [
    "print(data.info())"
   ]
  },
  {
   "cell_type": "code",
   "execution_count": 7,
   "metadata": {},
   "outputs": [
    {
     "data": {
      "application/vnd.microsoft.datawrangler.viewer.v0+json": {
       "columns": [
        {
         "name": "index",
         "rawType": "object",
         "type": "string"
        },
        {
         "name": "0",
         "rawType": "int64",
         "type": "integer"
        }
       ],
       "ref": "ce15aba2-4550-41e9-a68b-bd113d6690da",
       "rows": [
        [
         "hotel",
         "0"
        ],
        [
         "is_canceled",
         "0"
        ],
        [
         "lead_time",
         "0"
        ],
        [
         "arrival_date_year",
         "0"
        ],
        [
         "arrival_date_month",
         "0"
        ],
        [
         "arrival_date_week_number",
         "0"
        ],
        [
         "arrival_date_day_of_month",
         "0"
        ],
        [
         "stays_in_weekend_nights",
         "0"
        ],
        [
         "stays_in_week_nights",
         "0"
        ],
        [
         "adults",
         "0"
        ],
        [
         "children",
         "4"
        ],
        [
         "babies",
         "0"
        ],
        [
         "meal",
         "0"
        ],
        [
         "country",
         "488"
        ],
        [
         "market_segment",
         "0"
        ],
        [
         "distribution_channel",
         "0"
        ],
        [
         "is_repeated_guest",
         "0"
        ],
        [
         "previous_cancellations",
         "0"
        ],
        [
         "previous_bookings_not_canceled",
         "0"
        ],
        [
         "reserved_room_type",
         "0"
        ],
        [
         "assigned_room_type",
         "0"
        ],
        [
         "booking_changes",
         "0"
        ],
        [
         "deposit_type",
         "0"
        ],
        [
         "agent",
         "16340"
        ],
        [
         "company",
         "112593"
        ],
        [
         "days_in_waiting_list",
         "0"
        ],
        [
         "customer_type",
         "0"
        ],
        [
         "adr",
         "0"
        ],
        [
         "required_car_parking_spaces",
         "0"
        ],
        [
         "total_of_special_requests",
         "0"
        ],
        [
         "reservation_status",
         "0"
        ],
        [
         "reservation_status_date",
         "0"
        ]
       ],
       "shape": {
        "columns": 1,
        "rows": 32
       }
      },
      "text/plain": [
       "hotel                                  0\n",
       "is_canceled                            0\n",
       "lead_time                              0\n",
       "arrival_date_year                      0\n",
       "arrival_date_month                     0\n",
       "arrival_date_week_number               0\n",
       "arrival_date_day_of_month              0\n",
       "stays_in_weekend_nights                0\n",
       "stays_in_week_nights                   0\n",
       "adults                                 0\n",
       "children                               4\n",
       "babies                                 0\n",
       "meal                                   0\n",
       "country                              488\n",
       "market_segment                         0\n",
       "distribution_channel                   0\n",
       "is_repeated_guest                      0\n",
       "previous_cancellations                 0\n",
       "previous_bookings_not_canceled         0\n",
       "reserved_room_type                     0\n",
       "assigned_room_type                     0\n",
       "booking_changes                        0\n",
       "deposit_type                           0\n",
       "agent                              16340\n",
       "company                           112593\n",
       "days_in_waiting_list                   0\n",
       "customer_type                          0\n",
       "adr                                    0\n",
       "required_car_parking_spaces            0\n",
       "total_of_special_requests              0\n",
       "reservation_status                     0\n",
       "reservation_status_date                0\n",
       "dtype: int64"
      ]
     },
     "execution_count": 7,
     "metadata": {},
     "output_type": "execute_result"
    }
   ],
   "source": [
    "data.isnull().sum()"
   ]
  },
  {
   "cell_type": "code",
   "execution_count": 8,
   "metadata": {},
   "outputs": [
    {
     "data": {
      "application/vnd.microsoft.datawrangler.viewer.v0+json": {
       "columns": [
        {
         "name": "index",
         "rawType": "object",
         "type": "string"
        },
        {
         "name": "0",
         "rawType": "object",
         "type": "unknown"
        }
       ],
       "ref": "d375a1cb-3cde-4ee7-b66e-98084e6f35b3",
       "rows": [
        [
         "hotel",
         "object"
        ],
        [
         "is_canceled",
         "int64"
        ],
        [
         "lead_time",
         "int64"
        ],
        [
         "arrival_date_year",
         "int64"
        ],
        [
         "arrival_date_month",
         "object"
        ],
        [
         "arrival_date_week_number",
         "int64"
        ],
        [
         "arrival_date_day_of_month",
         "int64"
        ],
        [
         "stays_in_weekend_nights",
         "int64"
        ],
        [
         "stays_in_week_nights",
         "int64"
        ],
        [
         "adults",
         "int64"
        ],
        [
         "children",
         "float64"
        ],
        [
         "babies",
         "int64"
        ],
        [
         "meal",
         "object"
        ],
        [
         "country",
         "object"
        ],
        [
         "market_segment",
         "object"
        ],
        [
         "distribution_channel",
         "object"
        ],
        [
         "is_repeated_guest",
         "int64"
        ],
        [
         "previous_cancellations",
         "int64"
        ],
        [
         "previous_bookings_not_canceled",
         "int64"
        ],
        [
         "reserved_room_type",
         "object"
        ],
        [
         "assigned_room_type",
         "object"
        ],
        [
         "booking_changes",
         "int64"
        ],
        [
         "deposit_type",
         "object"
        ],
        [
         "agent",
         "float64"
        ],
        [
         "company",
         "float64"
        ],
        [
         "days_in_waiting_list",
         "int64"
        ],
        [
         "customer_type",
         "object"
        ],
        [
         "adr",
         "float64"
        ],
        [
         "required_car_parking_spaces",
         "int64"
        ],
        [
         "total_of_special_requests",
         "int64"
        ],
        [
         "reservation_status",
         "object"
        ],
        [
         "reservation_status_date",
         "object"
        ]
       ],
       "shape": {
        "columns": 1,
        "rows": 32
       }
      },
      "text/plain": [
       "hotel                              object\n",
       "is_canceled                         int64\n",
       "lead_time                           int64\n",
       "arrival_date_year                   int64\n",
       "arrival_date_month                 object\n",
       "arrival_date_week_number            int64\n",
       "arrival_date_day_of_month           int64\n",
       "stays_in_weekend_nights             int64\n",
       "stays_in_week_nights                int64\n",
       "adults                              int64\n",
       "children                          float64\n",
       "babies                              int64\n",
       "meal                               object\n",
       "country                            object\n",
       "market_segment                     object\n",
       "distribution_channel               object\n",
       "is_repeated_guest                   int64\n",
       "previous_cancellations              int64\n",
       "previous_bookings_not_canceled      int64\n",
       "reserved_room_type                 object\n",
       "assigned_room_type                 object\n",
       "booking_changes                     int64\n",
       "deposit_type                       object\n",
       "agent                             float64\n",
       "company                           float64\n",
       "days_in_waiting_list                int64\n",
       "customer_type                      object\n",
       "adr                               float64\n",
       "required_car_parking_spaces         int64\n",
       "total_of_special_requests           int64\n",
       "reservation_status                 object\n",
       "reservation_status_date            object\n",
       "dtype: object"
      ]
     },
     "execution_count": 8,
     "metadata": {},
     "output_type": "execute_result"
    }
   ],
   "source": [
    "data.dtypes"
   ]
  },
  {
   "cell_type": "code",
   "execution_count": 9,
   "metadata": {},
   "outputs": [
    {
     "data": {
      "text/plain": [
       "Index(['hotel', 'arrival_date_month', 'meal', 'country', 'market_segment',\n",
       "       'distribution_channel', 'reserved_room_type', 'assigned_room_type',\n",
       "       'deposit_type', 'customer_type', 'reservation_status',\n",
       "       'reservation_status_date'],\n",
       "      dtype='object')"
      ]
     },
     "execution_count": 9,
     "metadata": {},
     "output_type": "execute_result"
    }
   ],
   "source": [
    "data.select_dtypes(include='object').columns"
   ]
  },
  {
   "cell_type": "code",
   "execution_count": null,
   "metadata": {},
   "outputs": [],
   "source": [
    "def clean_data(df):\n",
    "    \"\"\"Clean the hotel bookings dataset.\"\"\"\n",
    "    try:\n",
    "        # Impute missing values\n",
    "        df['children'] = df['children'].fillna(df['children'].median())\n",
    "        df['country'] = df['country'].fillna('Unknown')\n",
    "        \n",
    "        # Drop redundant columns (if they exist)\n",
    "        redundant_cols = ['reservation_status', 'reservation_status_date']\n",
    "        df = df.drop(columns=[col for col in redundant_cols if col in df.columns], errors='ignore')\n",
    "        \n",
    "        logging.info(\"Data cleaned successfully\")\n",
    "        return df\n",
    "    except Exception as e:\n",
    "        logging.error(f\"Error in clean_data: {e}\")\n",
    "        raise\n",
    "\n",
    "def engineer_features(df):\n",
    "    \"\"\"Create derived features.\"\"\"\n",
    "    try:\n",
    "        df['total_stay'] = df['stays_in_weekend_nights'] + df['stays_in_week_nights']\n",
    "        df['total_guests'] = df['adults'] + df['children'] + df['babies']\n",
    "        df['is_long_lead'] = (df['lead_time'] > 90).astype(int)\n",
    "        logging.info(\"Features engineered successfully\")\n",
    "        return df\n",
    "    except Exception as e:\n",
    "        logging.error(f\"Error in engineer_features: {e}\")\n",
    "        raise\n",
    "\n",
    "# Apply preprocessing\n",
    "df = clean_data(df)\n",
    "df = engineer_features(df)\n",
    "\n",
    "# Save cleaned data\n",
    "os.makedirs('data/processed', exist_ok=True)\n",
    "df.to_csv('data/processed/hotel_bookings_clean.csv', index=False)\n",
    "print(\"Cleaned data saved to data/processed/hotel_bookings_clean.csv\")"
   ]
  }
 ],
 "metadata": {
  "kernelspec": {
   "display_name": "base",
   "language": "python",
   "name": "python3"
  },
  "language_info": {
   "codemirror_mode": {
    "name": "ipython",
    "version": 3
   },
   "file_extension": ".py",
   "mimetype": "text/x-python",
   "name": "python",
   "nbconvert_exporter": "python",
   "pygments_lexer": "ipython3",
   "version": "3.11.7"
  }
 },
 "nbformat": 4,
 "nbformat_minor": 2
}
